{
 "cells": [
  {
   "cell_type": "code",
   "execution_count": 21,
   "metadata": {},
   "outputs": [],
   "source": [
    "import numpy as np\n",
    "import pandas as pd\n",
    "import tensorflow as tf\n",
    "from matplotlib import pyplot as plt\n",
    "import os\n",
    "from tensorflow import keras\n",
    "from keras.preprocessing.image import ImageDataGenerator\n",
    "from pathlib import Path\n",
    "from PIL import Image\n",
    "from keras.models import Sequential\n",
    "from keras.layers import Dropout, Flatten, Dense, Conv2D, MaxPooling2D, BatchNormalization\n",
    "from sklearn.model_selection import train_test_split\n",
    "import cv2"
   ]
  },
  {
   "cell_type": "code",
   "execution_count": 2,
   "metadata": {},
   "outputs": [
    {
     "name": "stdout",
     "output_type": "stream",
     "text": [
      "1 Physical GPUs, 1 Logical GPU\n"
     ]
    }
   ],
   "source": [
    "gpus = tf.config.list_physical_devices('GPU')\n",
    "if gpus:\n",
    "  # Restrict TensorFlow to only use the first GPU\n",
    "  try:\n",
    "    tf.config.set_visible_devices(gpus[0], 'GPU')\n",
    "    logical_gpus = tf.config.list_logical_devices('GPU')\n",
    "    print(len(gpus), \"Physical GPUs,\", len(logical_gpus), \"Logical GPU\")\n",
    "  except RuntimeError as e:\n",
    "    # Visible devices must be set before GPUs have been initialized\n",
    "    print(e)"
   ]
  },
  {
   "cell_type": "markdown",
   "metadata": {},
   "source": [
    "### Adding images and converting to numpy array"
   ]
  },
  {
   "cell_type": "code",
   "execution_count": 3,
   "metadata": {},
   "outputs": [],
   "source": [
    "directory = os.path.join('dataset','training_shuffleV2_0_200')"
   ]
  },
  {
   "cell_type": "code",
   "execution_count": 4,
   "metadata": {},
   "outputs": [],
   "source": [
    "def read_pil_image(img_path, height, width):\n",
    "        with open(img_path, 'rb') as f:\n",
    "            return np.array(Image.open(f).convert('RGB').resize((width, height)))\n",
    "\n",
    "def load_all_images(dataset_path, height, width, img_ext='png'):\n",
    "    return np.array([read_pil_image(str(p), height, width) for p in \n",
    "                                    Path(dataset_path).rglob(\"*.\"+img_ext)]) "
   ]
  },
  {
   "cell_type": "code",
   "execution_count": 5,
   "metadata": {},
   "outputs": [],
   "source": [
    "train_datagen = ImageDataGenerator(featurewise_center=True, featurewise_std_normalization=False,validation_split = .2)\n",
    "test_datagen = ImageDataGenerator(rescale=1./255,validation_split = .2)\n",
    "# train_datagen_std = tf.keras.preprocessing.image.ImageDataGenerator(featurewise_center=True, featurewise_std_normalization=True)\n",
    "# train_datagen_zca = tf.keras.preprocessing.image.ImageDataGenerator(zca_whitening=True)"
   ]
  },
  {
   "cell_type": "code",
   "execution_count": 6,
   "metadata": {},
   "outputs": [],
   "source": [
    "train_datagen.fit(load_all_images(directory, 64, 64))"
   ]
  },
  {
   "cell_type": "code",
   "execution_count": 7,
   "metadata": {},
   "outputs": [
    {
     "name": "stdout",
     "output_type": "stream",
     "text": [
      "Found 3840 images belonging to 24 classes.\n",
      "Found 936 images belonging to 24 classes.\n"
     ]
    }
   ],
   "source": [
    "training_set = train_datagen.flow_from_directory(\n",
    "    directory,target_size=(64, 64),batch_size=34,class_mode='categorical', shuffle = False,subset='training'\n",
    ")\n",
    "validation_set = test_datagen.flow_from_directory(directory,\n",
    "                                        target_size=(64, 64),\n",
    "                                                 batch_size=32,\n",
    "                                      class_mode='categorical',\n",
    "                                               shuffle = False,\n",
    "                                           subset='validation')\n",
    "# images_std = train_datagen_zca.flow_from_directory(\n",
    "#     directory,target_size=(64, 64),batch_size=34,class_mode='categorical'\n",
    "# )\n",
    "\n",
    "# images_zca = train_datagen_zca.flow_from_directory(\n",
    "#     directory,target_size=(64, 64),batch_size=34,class_mode='categorical'\n",
    "# )"
   ]
  },
  {
   "cell_type": "code",
   "execution_count": 8,
   "metadata": {},
   "outputs": [],
   "source": [
    "# for i in range(9):\n",
    "# \t# define subplot\n",
    "# \tplt.subplot(330 + 1 + i)\n",
    "# \t# generate batch of images\n",
    "# \tbatch = images.next()\n",
    "# \t# convert to unsigned integers for viewing\n",
    "# \timage = batch[0].astype('uint8')\n",
    "# \t# plot raw pixel data\n",
    "# \tplt.imshow(image[0])\n",
    "# # show the figure\n",
    "# plt.show()"
   ]
  },
  {
   "cell_type": "code",
   "execution_count": null,
   "metadata": {},
   "outputs": [
    {
     "name": "stdout",
     "output_type": "stream",
     "text": [
      "Epoch 1/50\n",
      "113/113 [==============================] - 3s 22ms/step - loss: 7.7873 - accuracy: 0.0503 - val_loss: 8.3650 - val_accuracy: 0.0459\n",
      "Epoch 2/50\n",
      "113/113 [==============================] - 2s 20ms/step - loss: 9.0150 - accuracy: 0.0609 - val_loss: 9.1611 - val_accuracy: 0.0417\n",
      "Epoch 3/50\n",
      "113/113 [==============================] - 2s 19ms/step - loss: 10.5355 - accuracy: 0.0628 - val_loss: 9.1784 - val_accuracy: 0.0417\n",
      "Epoch 4/50\n",
      "113/113 [==============================] - 2s 20ms/step - loss: 10.5313 - accuracy: 0.0628 - val_loss: 9.1784 - val_accuracy: 0.0417\n",
      "Epoch 5/50\n",
      "113/113 [==============================] - 2s 20ms/step - loss: 10.5313 - accuracy: 0.0628 - val_loss: 9.1784 - val_accuracy: 0.0417\n",
      "Epoch 6/50\n",
      "113/113 [==============================] - 2s 20ms/step - loss: 10.5313 - accuracy: 0.0628 - val_loss: 9.1784 - val_accuracy: 0.0417\n",
      "Epoch 7/50\n",
      "113/113 [==============================] - 2s 21ms/step - loss: 10.5313 - accuracy: 0.0628 - val_loss: 9.1784 - val_accuracy: 0.0417\n",
      "Epoch 8/50\n",
      "113/113 [==============================] - 2s 20ms/step - loss: 10.5313 - accuracy: 0.0628 - val_loss: 9.1784 - val_accuracy: 0.0417\n",
      "Epoch 9/50\n",
      "113/113 [==============================] - 2s 20ms/step - loss: 10.5313 - accuracy: 0.0628 - val_loss: 9.1784 - val_accuracy: 0.0417\n",
      "Epoch 10/50\n",
      "113/113 [==============================] - 2s 21ms/step - loss: 10.5313 - accuracy: 0.0628 - val_loss: 9.1784 - val_accuracy: 0.0417\n",
      "Epoch 11/50\n",
      "113/113 [==============================] - 2s 20ms/step - loss: 10.5313 - accuracy: 0.0628 - val_loss: 9.1784 - val_accuracy: 0.0417\n",
      "Epoch 12/50\n",
      "113/113 [==============================] - 2s 20ms/step - loss: 10.5313 - accuracy: 0.0628 - val_loss: 9.1784 - val_accuracy: 0.0417\n",
      "Epoch 13/50\n",
      "113/113 [==============================] - 2s 21ms/step - loss: 10.5313 - accuracy: 0.0628 - val_loss: 9.1784 - val_accuracy: 0.0417\n",
      "Epoch 14/50\n",
      "113/113 [==============================] - 2s 20ms/step - loss: 10.5313 - accuracy: 0.0628 - val_loss: 9.1784 - val_accuracy: 0.0417\n",
      "Epoch 15/50\n",
      "113/113 [==============================] - 2s 20ms/step - loss: 10.5313 - accuracy: 0.0628 - val_loss: 9.1784 - val_accuracy: 0.0417\n",
      "Epoch 16/50\n",
      "113/113 [==============================] - 2s 20ms/step - loss: 10.5313 - accuracy: 0.0628 - val_loss: 9.1784 - val_accuracy: 0.0417\n",
      "Epoch 17/50\n",
      "113/113 [==============================] - 2s 20ms/step - loss: 10.5313 - accuracy: 0.0628 - val_loss: 9.1784 - val_accuracy: 0.0417\n",
      "Epoch 18/50\n",
      "113/113 [==============================] - 2s 20ms/step - loss: 10.5313 - accuracy: 0.0628 - val_loss: 9.1784 - val_accuracy: 0.0417\n",
      "Epoch 19/50\n",
      "113/113 [==============================] - 2s 21ms/step - loss: 10.5313 - accuracy: 0.0628 - val_loss: 9.1784 - val_accuracy: 0.0417s: 10.5506 - accuracy: 0\n",
      "Epoch 20/50\n",
      "113/113 [==============================] - 2s 20ms/step - loss: 10.5313 - accuracy: 0.0628 - val_loss: 9.1784 - val_accuracy: 0.0417\n",
      "Epoch 21/50\n",
      "113/113 [==============================] - 2s 20ms/step - loss: 10.5313 - accuracy: 0.0628 - val_loss: 9.1784 - val_accuracy: 0.0417\n",
      "Epoch 22/50\n",
      "113/113 [==============================] - 2s 21ms/step - loss: 10.5313 - accuracy: 0.0628 - val_loss: 9.1784 - val_accuracy: 0.0417\n",
      "Epoch 23/50\n",
      "113/113 [==============================] - 2s 20ms/step - loss: 10.5313 - accuracy: 0.0628 - val_loss: 9.1784 - val_accuracy: 0.0417\n",
      "Epoch 24/50\n",
      "113/113 [==============================] - 2s 19ms/step - loss: 10.5313 - accuracy: 0.0628 - val_loss: 9.1784 - val_accuracy: 0.0417\n",
      "Epoch 25/50\n",
      "113/113 [==============================] - 2s 21ms/step - loss: 10.5313 - accuracy: 0.0628 - val_loss: 9.1784 - val_accuracy: 0.0417\n",
      "Epoch 26/50\n",
      "113/113 [==============================] - 2s 20ms/step - loss: 10.5313 - accuracy: 0.0628 - val_loss: 9.1784 - val_accuracy: 0.0417\n",
      "Epoch 27/50\n",
      "113/113 [==============================] - 2s 19ms/step - loss: 10.5313 - accuracy: 0.0628 - val_loss: 9.1784 - val_accuracy: 0.0417\n",
      "Epoch 28/50\n",
      "113/113 [==============================] - 2s 20ms/step - loss: 10.5313 - accuracy: 0.0628 - val_loss: 9.1784 - val_accuracy: 0.0417\n",
      "Epoch 29/50\n",
      "113/113 [==============================] - 2s 20ms/step - loss: 10.5313 - accuracy: 0.0628 - val_loss: 9.1784 - val_accuracy: 0.0417\n",
      "Epoch 30/50\n",
      "113/113 [==============================] - 2s 20ms/step - loss: 10.5313 - accuracy: 0.0628 - val_loss: 9.1784 - val_accuracy: 0.0417\n",
      "Epoch 31/50\n",
      "113/113 [==============================] - 2s 20ms/step - loss: 10.5313 - accuracy: 0.0628 - val_loss: 9.1784 - val_accuracy: 0.0417 10.6577 - accuracy:\n",
      "Epoch 32/50\n",
      "113/113 [==============================] - 2s 20ms/step - loss: 10.5313 - accuracy: 0.0628 - val_loss: 9.1784 - val_accuracy: 0.0417\n",
      "Epoch 33/50\n",
      "113/113 [==============================] - 2s 20ms/step - loss: 10.5313 - accuracy: 0.0628 - val_loss: 9.1784 - val_accuracy: 0.0417\n",
      "Epoch 34/50\n",
      "113/113 [==============================] - 2s 21ms/step - loss: 10.5313 - accuracy: 0.0628 - val_loss: 9.1784 - val_accuracy: 0.0417\n",
      "Epoch 35/50\n",
      "113/113 [==============================] - 2s 20ms/step - loss: 10.5313 - accuracy: 0.0628 - val_loss: 9.1784 - val_accuracy: 0.0417\n",
      "Epoch 36/50\n",
      "113/113 [==============================] - 2s 20ms/step - loss: 10.5313 - accuracy: 0.0628 - val_loss: 9.1784 - val_accuracy: 0.0417\n",
      "Epoch 37/50\n",
      "113/113 [==============================] - 2s 21ms/step - loss: 10.5313 - accuracy: 0.0628 - val_loss: 9.1784 - val_accuracy: 0.0417\n",
      "Epoch 38/50\n",
      "113/113 [==============================] - 2s 20ms/step - loss: 10.5313 - accuracy: 0.0628 - val_loss: 9.1784 - val_accuracy: 0.0417\n",
      "Epoch 39/50\n",
      "113/113 [==============================] - 2s 20ms/step - loss: 10.5313 - accuracy: 0.0628 - val_loss: 9.1784 - val_accuracy: 0.0417\n",
      "Epoch 40/50\n",
      "113/113 [==============================] - 2s 21ms/step - loss: 10.5313 - accuracy: 0.0628 - val_loss: 9.1784 - val_accuracy: 0.0417\n",
      "Epoch 41/50\n",
      "113/113 [==============================] - 2s 20ms/step - loss: 10.5313 - accuracy: 0.0628 - val_loss: 9.1784 - val_accuracy: 0.0417\n",
      "Epoch 42/50\n",
      "113/113 [==============================] - 2s 20ms/step - loss: 10.5313 - accuracy: 0.0628 - val_loss: 9.1784 - val_accuracy: 0.0417\n",
      "Epoch 43/50\n",
      "113/113 [==============================] - ETA: 0s - loss: 10.5313 - accuracy: 0.0628"
     ]
    }
   ],
   "source": [
    "# Model architechture\n",
    "model = Sequential()\n",
    "model.add(Conv2D(64, (3, 3), activation='relu', input_shape=(64, 64, 3)))\n",
    "model.add(MaxPooling2D((2, 2)))\n",
    "# model.add(layers.Conv2D(128, (3, 3), activation='relu'))\n",
    "# model.add(layers.MaxPooling2D((2, 2)))\n",
    "# model.add(layers.Conv2D(128, (3, 3), activation='relu'))\n",
    "model.add(Flatten())\n",
    "model.add(Dense(64, activation='relu'))\n",
    "model.add(Dense(24))\n",
    "\n",
    "model.compile(loss='categorical_crossentropy',optimizer='adam',metrics=['accuracy'])\n",
    "\n",
    "\n",
    "history = model.fit(training_set,\n",
    "                    steps_per_epoch=len(training_set),\n",
    "                    epochs=5,\n",
    "                    validation_data = validation_set,\n",
    "                    validation_steps = len(validation_set),\n",
    "                    verbose=1)"
   ]
  },
  {
   "cell_type": "code",
   "execution_count": null,
   "metadata": {},
   "outputs": [],
   "source": [
    "\n"
   ]
  },
  {
   "cell_type": "code",
   "execution_count": 18,
   "metadata": {},
   "outputs": [
    {
     "data": {
      "image/png": "[encoded data removed]",
      "text/plain": [
       "<Figure size 432x288 with 1 Axes>"
      ]
     },
     "metadata": {
      "needs_background": "light"
     },
     "output_type": "display_data"
    }
   ],
   "source": [
    "plt.plot(history.history['loss'])\n",
    "plt.plot(history.history['val_loss'])\n",
    "plt.title('model train vs validation loss')\n",
    "plt.ylabel('loss')\n",
    "plt.xlabel('epoch')\n",
    "plt.legend(['train', 'validation'], loc='upper right')\n",
    "plt.show()"
   ]
  },
  {
   "cell_type": "code",
   "execution_count": 19,
   "metadata": {},
   "outputs": [
    {
     "data": {
      "image/png": "[encoded data removed]",
      "text/plain": [
       "<Figure size 432x288 with 1 Axes>"
      ]
     },
     "metadata": {
      "needs_background": "light"
     },
     "output_type": "display_data"
    }
   ],
   "source": [
    "plt.plot(history.history['accuracy'])\n",
    "plt.plot(history.history['val_accuracy'])\n",
    "plt.title('model train vs validation loss')\n",
    "plt.ylabel('loss')\n",
    "plt.xlabel('epoch')\n",
    "plt.legend(['train', 'validation'], loc='upper right')\n",
    "plt.show()"
   ]
  },
  {
   "cell_type": "code",
   "execution_count": null,
   "metadata": {},
   "outputs": [],
   "source": []
  }
 ],
 "metadata": {
  "interpreter": {
   "hash": "963d71d93479651a6f1c6c6edea673d15d1950ccb24249efb4f5ed79375351c3"
  },
  "kernelspec": {
   "display_name": "Python 3",
   "language": "python",
   "name": "python3"
  },
  "language_info": {
   "codemirror_mode": {
    "name": "ipython",
    "version": 3
   },
   "file_extension": ".py",
   "mimetype": "text/x-python",
   "name": "python",
   "nbconvert_exporter": "python",
   "pygments_lexer": "ipython3",
   "version": "3.7.0"
  }
 },
 "nbformat": 4,
 "nbformat_minor": 2
}
