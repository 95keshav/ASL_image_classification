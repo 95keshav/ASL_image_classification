{
 "cells": [
  {
   "cell_type": "code",
   "execution_count": 2,
   "metadata": {},
   "outputs": [
    {
     "name": "stderr",
     "output_type": "stream",
     "text": [
      "C:\\Users\\95kes\\python\\lib\\site-packages\\numpy\\_distributor_init.py:32: UserWarning: loaded more than 1 DLL from .libs:\n",
      "C:\\Users\\95kes\\python\\lib\\site-packages\\numpy\\.libs\\libopenblas.GK7GX5KEQ4F6UYO3P26ULGBQYHGQO7J4.gfortran-win_amd64.dll\n",
      "C:\\Users\\95kes\\python\\lib\\site-packages\\numpy\\.libs\\libopenblas.WCDJNK7YVMPZQ2ME2ZZHJJRJ3JIKNDB7.gfortran-win_amd64.dll\n",
      "  stacklevel=1)\n"
     ]
    }
   ],
   "source": [
    "import numpy as np\n",
    "import pandas as pd\n",
    "import tensorflow as tf\n",
    "from matplotlib import pyplot as plt\n",
    "import os\n",
    "from tensorflow import keras\n",
    "from keras.preprocessing.image import ImageDataGenerator\n",
    "from pathlib import Path\n",
    "from PIL import Image\n",
    "from keras.models import Sequential\n",
    "from keras.layers import Dropout, Flatten, Dense, Conv2D, MaxPooling2D, BatchNormalization\n",
    "from keras import optimizers\n",
    "from sklearn.model_selection import train_test_split\n",
    "import cv2"
   ]
  },
  {
   "cell_type": "code",
   "execution_count": 36,
   "metadata": {},
   "outputs": [
    {
     "name": "stdout",
     "output_type": "stream",
     "text": [
      "1 Physical GPUs, 1 Logical GPU\n"
     ]
    }
   ],
   "source": [
    "gpus = tf.config.list_physical_devices('GPU')\n",
    "if gpus:\n",
    "  # Restrict TensorFlow to only use the first GPU\n",
    "  try:\n",
    "    tf.config.set_visible_devices(gpus[0], 'GPU')\n",
    "    logical_gpus = tf.config.list_logical_devices('GPU')\n",
    "    print(len(gpus), \"Physical GPUs,\", len(logical_gpus), \"Logical GPU\")\n",
    "  except RuntimeError as e:\n",
    "    # Visible devices must be set before GPUs have been initialized\n",
    "    print(e)"
   ]
  },
  {
   "cell_type": "markdown",
   "metadata": {},
   "source": [
    "### Adding images and converting to numpy array"
   ]
  },
  {
   "cell_type": "code",
   "execution_count": 3,
   "metadata": {},
   "outputs": [],
   "source": [
    "directory = os.path.join('dataset','training_shuffle_400')"
   ]
  },
  {
   "cell_type": "code",
   "execution_count": 38,
   "metadata": {},
   "outputs": [],
   "source": [
    "def read_pil_image(img_path, height, width):\n",
    "        with open(img_path, 'rb') as f:\n",
    "            return np.array(Image.open(f).convert('RGB').resize((width, height)))\n",
    "\n",
    "def load_all_images(dataset_path, height, width, img_ext='png'):\n",
    "    return np.array([read_pil_image(str(p), height, width) for p in \n",
    "                                    Path(dataset_path).rglob(\"*.\"+img_ext)]) "
   ]
  },
  {
   "cell_type": "code",
   "execution_count": 39,
   "metadata": {},
   "outputs": [],
   "source": [
    "train_datagen = ImageDataGenerator(rescale=1./255.,validation_split = .25)\n",
    "test_datagen = ImageDataGenerator(rescale=1./255.)\n",
    "train_datagen_std = tf.keras.preprocessing.image.ImageDataGenerator(featurewise_center=True, featurewise_std_normalization=True)\n",
    "train_datagen = tf.keras.preprocessing.image.ImageDataGenerator(zca_whitening=True)"
   ]
  },
  {
   "cell_type": "code",
   "execution_count": 40,
   "metadata": {},
   "outputs": [],
   "source": [
    "\n",
    "x = load_all_images(os.path.join('dataset','small_train_sample'),64,64)\n",
    "\n",
    "train_datagen.fit(x)\n",
    "test_datagen.fit(x)"
   ]
  },
  {
   "cell_type": "code",
   "execution_count": 41,
   "metadata": {},
   "outputs": [],
   "source": [
    "# train_datagen.fit(load_all_images(directory, 64, 64))\n",
    "# test_datagen.fit(load_all_images(os.path.join('dataset','test_random'), 64, 64))\n",
    "# test_datagen.fit(load_all_images(directory, 64, 64))\n",
    "# train_datagen.fit(load_all_images(directory, 64, 64))"
   ]
  },
  {
   "cell_type": "code",
   "execution_count": 42,
   "metadata": {},
   "outputs": [],
   "source": [
    "training_set = train_datagen.flow_from_directory(\n",
    "    directory,target_size=(64, 64),batch_size=64,class_mode='categorical', shuffle = True,subset='training'\n",
    ")\n",
    "\n",
    "validation_set = train_datagen.flow_from_directory(directory,\n",
    "                                        target_size=(64, 64),\n",
    "                                                 batch_size=64,\n",
    "                                      class_mode='categorical',\n",
    "                                               shuffle = True,\n",
    "                                           subset='validation')\n",
    "\n",
    "test_set = test_datagen.flow_from_directory(os.path.join('dataset','test_random'),\n",
    "                                                target_size=(64, 64),\n",
    "                                                batch_size=64,\n",
    "                                                class_mode='categorical',\n",
    "                                                shuffle = True)\n",
    "# images_std = train_datagen_zca.flow_from_directory(\n",
    "#     directory,target_size=(64, 64),batch_size=34,class_mode='categorical'\n",
    "# )\n",
    "\n",
    "# images_zca = train_datagen_zca.flow_from_directory(\n",
    "#     directory,target_size=(64, 64),batch_size=34,class_mode='categorical'\n",
    "# )"
   ]
  },
  {
   "cell_type": "code",
   "execution_count": 43,
   "metadata": {},
   "outputs": [],
   "source": [
    "for i in range(9):\n",
    "\t# define subplot\n",
    "\tplt.subplot(330 + 1 + i)\n",
    "\t# generate batch of images\n",
    "\tbatch = training_set.next()\n",
    "\t# convert to unsigned integers for viewing\n",
    "\timage = batch[0].astype('uint8')\n",
    "\t# plot raw pixel data\n",
    "\tplt.imshow(image[0])\n",
    "# show the figure\n",
    "plt.show()"
   ]
  },
  {
   "cell_type": "code",
   "execution_count": 4,
   "metadata": {},
   "outputs": [],
   "source": [
    "# def load_images(directory):\n",
    "#     images = []\n",
    "#     labels = []\n",
    "#     for idx, label in enumerate(uniq_labels):\n",
    "#         for file in os.listdir(directory + \"/\" + label):\n",
    "#             filepath = directory + \"/\" + label + \"/\" + file\n",
    "#             # image = cv2.resize(cv2.imread(filepath), (64, 64))\n",
    "#             images.append(image)\n",
    "#             labels.append(idx)\n",
    "#     images = np.array(images)\n",
    "#     labels = np.array(labels)\n",
    "#     return(images, labels)\n",
    "\n",
    "# uniq_labels = sorted(os.listdir(directory))\n",
    "# images, labels = load_images(directory = directory)\n",
    "# test_images,test_lables = load_images(directory = os.path.join('dataset','test_random'))"
   ]
  },
  {
   "cell_type": "code",
   "execution_count": 47,
   "metadata": {},
   "outputs": [],
   "source": [
    "# from sklearn.model_selection import train_test_split\n",
    "# X_train, X_test, y_train, y_test = train_test_split(images, labels, test_size = 0.2, stratify = labels)"
   ]
  },
  {
   "cell_type": "code",
   "execution_count": 51,
   "metadata": {},
   "outputs": [
    {
     "name": "stdout",
     "output_type": "stream",
     "text": [
      "Model: \"sequential_1\"\n",
      "_________________________________________________________________\n",
      " Layer (type)                Output Shape              Param #   \n",
      "=================================================================\n",
      " conv2d_6 (Conv2D)           (None, 64, 64, 32)        896       \n",
      "                                                                 \n",
      " conv2d_7 (Conv2D)           (None, 62, 62, 32)        9248      \n",
      "                                                                 \n",
      " max_pooling2d_3 (MaxPooling  (None, 31, 31, 32)       0         \n",
      " 2D)                                                             \n",
      "                                                                 \n",
      " dropout_4 (Dropout)         (None, 31, 31, 32)        0         \n",
      "                                                                 \n",
      " conv2d_8 (Conv2D)           (None, 31, 31, 64)        18496     \n",
      "                                                                 \n",
      " conv2d_9 (Conv2D)           (None, 29, 29, 64)        36928     \n",
      "                                                                 \n",
      " max_pooling2d_4 (MaxPooling  (None, 14, 14, 64)       0         \n",
      " 2D)                                                             \n",
      "                                                                 \n",
      " dropout_5 (Dropout)         (None, 14, 14, 64)        0         \n",
      "                                                                 \n",
      " conv2d_10 (Conv2D)          (None, 14, 14, 64)        36928     \n",
      "                                                                 \n",
      " conv2d_11 (Conv2D)          (None, 12, 12, 64)        36928     \n",
      "                                                                 \n",
      " max_pooling2d_5 (MaxPooling  (None, 6, 6, 64)         0         \n",
      " 2D)                                                             \n",
      "                                                                 \n",
      " dropout_6 (Dropout)         (None, 6, 6, 64)          0         \n",
      "                                                                 \n",
      " flatten_1 (Flatten)         (None, 2304)              0         \n",
      "                                                                 \n",
      " dense_2 (Dense)             (None, 512)               1180160   \n",
      "                                                                 \n",
      " dropout_7 (Dropout)         (None, 512)               0         \n",
      "                                                                 \n",
      " dense_3 (Dense)             (None, 24)                12312     \n",
      "                                                                 \n",
      "=================================================================\n",
      "Total params: 1,331,896\n",
      "Trainable params: 1,331,896\n",
      "Non-trainable params: 0\n",
      "_________________________________________________________________\n"
     ]
    }
   ],
   "source": [
    "\n",
    "# Model architechture\n",
    "model = Sequential()\n",
    "# The first two layers with 32 filters of window size 3x3\n",
    "model.add(Conv2D(32, (3, 3), padding='same', activation='relu', input_shape=(64, 64, 3)))\n",
    "model.add(Conv2D(32, (3, 3), activation='relu'))\n",
    "model.add(MaxPooling2D(pool_size=(2, 2)))\n",
    "model.add(Dropout(0.25))\n",
    "\n",
    "model.add(Conv2D(64, (3, 3), padding='same', activation='relu'))\n",
    "model.add(Conv2D(64, (3, 3), activation='relu'))\n",
    "model.add(MaxPooling2D(pool_size=(2, 2)))\n",
    "model.add(Dropout(0.25))\n",
    "\n",
    "model.add(Conv2D(64, (3, 3), padding='same', activation='relu'))\n",
    "model.add(Conv2D(64, (3, 3), activation='relu'))\n",
    "model.add(MaxPooling2D(pool_size=(2, 2)))\n",
    "model.add(Dropout(0.25))\n",
    "\n",
    "model.add(Flatten())\n",
    "model.add(Dense(512, activation='relu'))\n",
    "model.add(Dropout(0.5))\n",
    "model.add(Dense(24, activation='softmax'))\n",
    "\n",
    "model.summary()\n"
   ]
  },
  {
   "cell_type": "code",
   "execution_count": 52,
   "metadata": {},
   "outputs": [],
   "source": [
    "patience = 1\n",
    "stop_patience = 4\n",
    "factor = 0.5\n",
    "# checkpoint_path = \"training_1_test/cp.ckpt\"\n",
    "# checkpoint_dir = os.path.dirname(checkpoint_path)\n",
    "\n",
    "callbacks = [\n",
    "    tf.keras.callbacks.EarlyStopping(patience=stop_patience, monitor='val_loss', verbose=1, restore_best_weights=True),\n",
    "    # tf.keras.callbacks.ReduceLROnPlateau(monitor='val_loss', factor=factor, patience=patience, verbose=1),\n",
    "    # tf.keras.callbacks.ModelCheckpoint(filepath=checkpoint_path,\n",
    "    #                                              save_weights_only=True,\n",
    "    #                                              verbose=1)\n",
    "]\n"
   ]
  },
  {
   "cell_type": "code",
   "execution_count": 53,
   "metadata": {},
   "outputs": [],
   "source": [
    "# opt = tf.keras.optimizers.RMSprop(learning_rate=0.001, decay=1e-6)\n",
    "model.compile('adam',loss='categorical_crossentropy',metrics=['accuracy'])"
   ]
  },
  {
   "cell_type": "code",
   "execution_count": 54,
   "metadata": {},
   "outputs": [
    {
     "name": "stdout",
     "output_type": "stream",
     "text": [
      "Epoch 1/30\n",
      "97/97 [==============================] - 3s 25ms/step - loss: 3.5801 - accuracy: 0.1718 - val_loss: 8.3334 - val_accuracy: 0.0272\n",
      "Epoch 2/30\n",
      "97/97 [==============================] - 3s 29ms/step - loss: 1.5572 - accuracy: 0.5091 - val_loss: 12.0952 - val_accuracy: 0.0705\n",
      "Epoch 3/30\n",
      "97/97 [==============================] - 3s 28ms/step - loss: 1.0130 - accuracy: 0.6885 - val_loss: 12.8544 - val_accuracy: 0.1164\n",
      "Epoch 4/30\n",
      "97/97 [==============================] - 3s 28ms/step - loss: 0.7340 - accuracy: 0.7686 - val_loss: 11.1191 - val_accuracy: 0.1371\n",
      "Epoch 5/30\n",
      "97/97 [==============================] - 3s 28ms/step - loss: 0.5585 - accuracy: 0.8256 - val_loss: 13.1443 - val_accuracy: 0.1210\n",
      "Epoch 6/30\n",
      "97/97 [==============================] - 3s 28ms/step - loss: 0.4656 - accuracy: 0.8481 - val_loss: 14.9378 - val_accuracy: 0.1158\n",
      "Epoch 7/30\n",
      "97/97 [==============================] - 3s 28ms/step - loss: 0.3685 - accuracy: 0.8803 - val_loss: 16.8695 - val_accuracy: 0.1371\n",
      "Epoch 8/30\n",
      "97/97 [==============================] - 3s 28ms/step - loss: 0.3266 - accuracy: 0.8896 - val_loss: 14.7854 - val_accuracy: 0.1138\n",
      "Epoch 9/30\n",
      "97/97 [==============================] - 3s 26ms/step - loss: 0.2715 - accuracy: 0.9105 - val_loss: 16.7502 - val_accuracy: 0.1371\n",
      "Epoch 10/30\n",
      "97/97 [==============================] - 3s 26ms/step - loss: 0.2396 - accuracy: 0.9207 - val_loss: 13.5433 - val_accuracy: 0.1391\n",
      "Epoch 11/30\n",
      "97/97 [==============================] - 2s 24ms/step - loss: 0.1961 - accuracy: 0.9390 - val_loss: 17.3340 - val_accuracy: 0.1313\n",
      "Epoch 12/30\n",
      "97/97 [==============================] - 2s 23ms/step - loss: 0.1747 - accuracy: 0.9396 - val_loss: 16.8571 - val_accuracy: 0.1384\n",
      "Epoch 13/30\n",
      "97/97 [==============================] - 2s 24ms/step - loss: 0.1730 - accuracy: 0.9401 - val_loss: 16.5164 - val_accuracy: 0.1358\n",
      "Epoch 14/30\n",
      "97/97 [==============================] - 3s 26ms/step - loss: 0.1407 - accuracy: 0.9521 - val_loss: 17.5525 - val_accuracy: 0.1417\n",
      "Epoch 15/30\n",
      "97/97 [==============================] - 3s 27ms/step - loss: 0.1197 - accuracy: 0.9604 - val_loss: 17.3088 - val_accuracy: 0.1410\n",
      "Epoch 16/30\n",
      "97/97 [==============================] - 2s 24ms/step - loss: 0.1400 - accuracy: 0.9539 - val_loss: 15.8490 - val_accuracy: 0.1442\n",
      "Epoch 17/30\n",
      "97/97 [==============================] - 2s 22ms/step - loss: 0.1301 - accuracy: 0.9579 - val_loss: 15.6754 - val_accuracy: 0.1352\n",
      "Epoch 18/30\n",
      "97/97 [==============================] - 3s 27ms/step - loss: 0.1229 - accuracy: 0.9591 - val_loss: 17.9886 - val_accuracy: 0.1371\n",
      "Epoch 19/30\n",
      "97/97 [==============================] - 3s 28ms/step - loss: 0.1133 - accuracy: 0.9639 - val_loss: 18.5915 - val_accuracy: 0.1229\n",
      "Epoch 20/30\n",
      "97/97 [==============================] - 3s 29ms/step - loss: 0.1048 - accuracy: 0.9652 - val_loss: 20.5885 - val_accuracy: 0.1488\n",
      "Epoch 21/30\n",
      "97/97 [==============================] - 3s 29ms/step - loss: 0.0939 - accuracy: 0.9694 - val_loss: 19.3402 - val_accuracy: 0.1410\n",
      "Epoch 22/30\n",
      "97/97 [==============================] - 3s 28ms/step - loss: 0.0962 - accuracy: 0.9688 - val_loss: 16.7347 - val_accuracy: 0.1404\n",
      "Epoch 23/30\n",
      "97/97 [==============================] - 2s 24ms/step - loss: 0.1115 - accuracy: 0.9652 - val_loss: 16.5850 - val_accuracy: 0.1345\n",
      "Epoch 24/30\n",
      "97/97 [==============================] - 3s 28ms/step - loss: 0.0840 - accuracy: 0.9725 - val_loss: 19.8369 - val_accuracy: 0.1442\n",
      "Epoch 25/30\n",
      "97/97 [==============================] - 3s 28ms/step - loss: 0.0626 - accuracy: 0.9783 - val_loss: 19.0471 - val_accuracy: 0.1197\n",
      "Epoch 26/30\n",
      "97/97 [==============================] - 3s 28ms/step - loss: 0.0830 - accuracy: 0.9733 - val_loss: 19.8428 - val_accuracy: 0.1423\n",
      "Epoch 27/30\n",
      "97/97 [==============================] - 3s 28ms/step - loss: 0.0853 - accuracy: 0.9718 - val_loss: 19.0248 - val_accuracy: 0.1332\n",
      "Epoch 28/30\n",
      "97/97 [==============================] - 2s 25ms/step - loss: 0.0648 - accuracy: 0.9770 - val_loss: 20.5829 - val_accuracy: 0.1384\n",
      "Epoch 29/30\n",
      "97/97 [==============================] - 2s 26ms/step - loss: 0.0840 - accuracy: 0.9707 - val_loss: 19.5299 - val_accuracy: 0.1423\n",
      "Epoch 30/30\n",
      "97/97 [==============================] - 2s 25ms/step - loss: 0.0691 - accuracy: 0.9773 - val_loss: 21.7823 - val_accuracy: 0.1488\n"
     ]
    }
   ],
   "source": [
    "history = model.fit(training_set,epochs=30,validation_data = validation_set,verbose=1,callbacks=callbacks)"
   ]
  },
  {
   "cell_type": "code",
   "execution_count": 55,
   "metadata": {},
   "outputs": [
    {
     "data": {
      "image/png": "[encoded data removed]",
      "text/plain": [
       "<Figure size 432x288 with 1 Axes>"
      ]
     },
     "metadata": {
      "needs_background": "light"
     },
     "output_type": "display_data"
    }
   ],
   "source": [
    "plt.plot(history.history['loss'])\n",
    "plt.plot(history.history['val_loss'])\n",
    "plt.title('model train vs validation loss')\n",
    "plt.ylabel('loss')\n",
    "plt.xlabel('epoch')\n",
    "plt.legend(['train', 'validation'], loc='upper right')\n",
    "plt.show()"
   ]
  },
  {
   "cell_type": "code",
   "execution_count": 56,
   "metadata": {},
   "outputs": [
    {
     "data": {
      "image/png": "[encoded data removed]",
      "text/plain": [
       "<Figure size 432x288 with 1 Axes>"
      ]
     },
     "metadata": {
      "needs_background": "light"
     },
     "output_type": "display_data"
    }
   ],
   "source": [
    "plt.plot(history.history['accuracy'])\n",
    "plt.plot(history.history['val_accuracy'])\n",
    "plt.title('model train vs validation accuracy')\n",
    "plt.ylabel('loss')\n",
    "plt.xlabel('epoch')\n",
    "plt.legend(['train', 'validation'], loc='upper right')\n",
    "plt.show()"
   ]
  },
  {
   "cell_type": "code",
   "execution_count": 57,
   "metadata": {},
   "outputs": [
    {
     "name": "stdout",
     "output_type": "stream",
     "text": [
      "8/8 [==============================] - 0s 5ms/step - loss: 5.1687 - accuracy: 0.6208\n"
     ]
    },
    {
     "data": {
      "text/plain": [
       "[5.168748378753662, 0.6208333373069763]"
      ]
     },
     "execution_count": 57,
     "metadata": {},
     "output_type": "execute_result"
    }
   ],
   "source": [
    "model.evaluate(test_set)"
   ]
  },
  {
   "cell_type": "code",
   "execution_count": 58,
   "metadata": {},
   "outputs": [
    {
     "data": {
      "text/plain": [
       "0.6166666666666667"
      ]
     },
     "execution_count": 58,
     "metadata": {},
     "output_type": "execute_result"
    }
   ],
   "source": [
    "# from sklearn.metrics import accuracy_score\n",
    "yhat = model.predict(test_set)\n",
    "yhat = yhat.round()\n",
    "# acc = accuracy_score(y_test,yhat)\n",
    "# acc"
   ]
  },
  {
   "cell_type": "code",
   "execution_count": 61,
   "metadata": {},
   "outputs": [
    {
     "data": {
      "text/plain": [
       "array([ 0,  0,  0,  0, 18,  0,  0,  0,  0,  0,  1,  1,  1,  1,  1,  1,  1,\n",
       "        1,  1,  1,  2,  2,  2,  2,  2,  2,  2,  2,  2,  2,  3,  3,  3, 12,\n",
       "        3, 16,  3,  3,  3,  3, 17, 17, 17,  0, 12, 17, 17, 17, 17, 17,  5,\n",
       "        5,  0,  5,  5,  5,  5,  5,  5,  5,  6,  6,  6,  6,  6,  6,  6, 15,\n",
       "        6,  6,  7,  6,  7,  7,  7,  6,  6,  6,  6,  7,  8,  8,  0,  8,  8,\n",
       "        8, 17,  8,  8,  8,  9,  9,  9,  7,  0,  9,  9,  9,  9,  9, 10, 10,\n",
       "       10, 10, 10, 10, 10, 10, 10, 10, 11, 11, 11, 11, 11, 11, 11, 11, 11,\n",
       "       11, 18, 18, 18, 18, 12, 18, 18, 18, 12, 12, 13, 13, 13, 17, 13, 13,\n",
       "       17, 13, 13, 13,  0, 14,  0,  0, 18, 14, 14,  0, 14, 14, 15,  4, 14,\n",
       "       13,  0, 13,  0, 18,  0, 13, 16, 16, 16, 16, 16, 16, 16, 16, 16, 16,\n",
       "       17, 17, 17, 17, 17, 17, 17, 17, 17, 17,  0, 18, 18, 15, 18,  0,  0,\n",
       "       18, 18, 18, 19, 19, 19, 19, 19, 19, 19, 19, 19,  0, 19, 19, 16, 19,\n",
       "       19, 19, 19, 16, 16, 19,  1,  0,  1,  3,  3,  1,  1,  1,  3, 16,  3,\n",
       "        2,  9,  0,  0, 17, 17, 18, 17, 17,  0,  0,  0,  0,  8,  4,  4,  0,\n",
       "        0,  8], dtype=int64)"
      ]
     },
     "execution_count": 61,
     "metadata": {},
     "output_type": "execute_result"
    }
   ],
   "source": [
    "labelsPred = np.argmax(yhat, axis=-1)  \n",
    "labelsPred"
   ]
  }
 ],
 "metadata": {
  "interpreter": {
   "hash": "963d71d93479651a6f1c6c6edea673d15d1950ccb24249efb4f5ed79375351c3"
  },
  "kernelspec": {
   "display_name": "Python 3",
   "language": "python",
   "name": "python3"
  },
  "language_info": {
   "codemirror_mode": {
    "name": "ipython",
    "version": 3
   },
   "file_extension": ".py",
   "mimetype": "text/x-python",
   "name": "python",
   "nbconvert_exporter": "python",
   "pygments_lexer": "ipython3",
   "version": "3.7.0"
  }
 },
 "nbformat": 4,
 "nbformat_minor": 2
}
