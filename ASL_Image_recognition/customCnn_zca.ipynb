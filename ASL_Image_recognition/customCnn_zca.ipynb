{
 "cells": [
  {
   "cell_type": "code",
   "execution_count": 1,
   "metadata": {},
   "outputs": [
    {
     "name": "stderr",
     "output_type": "stream",
     "text": [
      "C:\\Users\\95kes\\python\\lib\\site-packages\\numpy\\_distributor_init.py:32: UserWarning: loaded more than 1 DLL from .libs:\n",
      "C:\\Users\\95kes\\python\\lib\\site-packages\\numpy\\.libs\\libopenblas.GK7GX5KEQ4F6UYO3P26ULGBQYHGQO7J4.gfortran-win_amd64.dll\n",
      "C:\\Users\\95kes\\python\\lib\\site-packages\\numpy\\.libs\\libopenblas.WCDJNK7YVMPZQ2ME2ZZHJJRJ3JIKNDB7.gfortran-win_amd64.dll\n",
      "  stacklevel=1)\n"
     ]
    }
   ],
   "source": [
    "import numpy as np\n",
    "import pandas as pd\n",
    "import tensorflow as tf\n",
    "from matplotlib import pyplot as plt\n",
    "import os\n",
    "from tensorflow import keras\n",
    "from keras.preprocessing.image import ImageDataGenerator\n",
    "from pathlib import Path\n",
    "from PIL import Image\n",
    "from keras.models import Sequential\n",
    "from keras.layers import Dropout, Flatten, Dense, Conv2D, MaxPooling2D, BatchNormalization\n",
    "from keras import optimizers\n",
    "from sklearn.model_selection import train_test_split\n",
    "import cv2"
   ]
  },
  {
   "cell_type": "code",
   "execution_count": 2,
   "metadata": {},
   "outputs": [
    {
     "name": "stdout",
     "output_type": "stream",
     "text": [
      "1 Physical GPUs, 1 Logical GPU\n"
     ]
    }
   ],
   "source": [
    "gpus = tf.config.list_physical_devices('GPU')\n",
    "if gpus:\n",
    "  # Restrict TensorFlow to only use the first GPU\n",
    "  try:\n",
    "    tf.config.set_visible_devices(gpus[0], 'GPU')\n",
    "    logical_gpus = tf.config.list_logical_devices('GPU')\n",
    "    print(len(gpus), \"Physical GPUs,\", len(logical_gpus), \"Logical GPU\")\n",
    "  except RuntimeError as e:\n",
    "    # Visible devices must be set before GPUs have been initialized\n",
    "    print(e)"
   ]
  },
  {
   "cell_type": "markdown",
   "metadata": {},
   "source": [
    "### Adding images and converting to numpy array"
   ]
  },
  {
   "cell_type": "code",
   "execution_count": 3,
   "metadata": {},
   "outputs": [],
   "source": [
    "directory = os.path.join('dataset','training_shuffle_400,a')"
   ]
  },
  {
   "cell_type": "code",
   "execution_count": 4,
   "metadata": {},
   "outputs": [],
   "source": [
    "def read_pil_image(img_path, height, width):\n",
    "        with open(img_path, 'rb') as f:\n",
    "            return np.array(Image.open(f).convert('RGB').resize((width, height)))\n",
    "\n",
    "def load_all_images(dataset_path, height, width, img_ext='png'):\n",
    "    return np.array([read_pil_image(str(p), height, width) for p in \n",
    "                                    Path(dataset_path).rglob(\"*.\"+img_ext)]) "
   ]
  },
  {
   "cell_type": "code",
   "execution_count": 5,
   "metadata": {},
   "outputs": [
    {
     "name": "stderr",
     "output_type": "stream",
     "text": [
      "C:\\Users\\95kes\\AppData\\Roaming\\Python\\Python37\\site-packages\\keras_preprocessing\\image\\image_data_generator.py:337: UserWarning: This ImageDataGenerator specifies `zca_whitening`, which overrides setting of `featurewise_center`.\n",
      "  warnings.warn('This ImageDataGenerator specifies '\n"
     ]
    }
   ],
   "source": [
    "train_datagen = ImageDataGenerator(zca_whitening=True,validation_split = .2)\n",
    "test_datagen = ImageDataGenerator(zca_whitening=True)"
   ]
  },
  {
   "cell_type": "code",
   "execution_count": 35,
   "metadata": {},
   "outputs": [],
   "source": [
    "x = load_all_images(os.path.join('dataset','small_train_sample'),64,64)\n",
    "\n",
    "train_datagen.fit(x)\n",
    "test_datagen.fit(x)"
   ]
  },
  {
   "cell_type": "code",
   "execution_count": null,
   "metadata": {},
   "outputs": [
    {
     "name": "stdout",
     "output_type": "stream",
     "text": [
      "Found 6190 images belonging to 24 classes.\n",
      "Found 1536 images belonging to 24 classes.\n",
      "Found 240 images belonging to 24 classes.\n"
     ]
    }
   ],
   "source": [
    "training_set = train_datagen.flow_from_directory(\n",
    "    directory,target_size=(64, 64),batch_size=64,class_mode='categorical', shuffle = True,subset='training'\n",
    ")\n",
    "\n",
    "validation_set = train_datagen.flow_from_directory(directory,\n",
    "                                        target_size=(64, 64),\n",
    "                                                 batch_size=64,\n",
    "                                      class_mode='categorical',\n",
    "                                               shuffle = True,\n",
    "                                           subset='validation')\n",
    "\n",
    "test_set = test_datagen.flow_from_directory(os.path.join('dataset','test_random'),\n",
    "                                                target_size=(64, 64),\n",
    "                                                batch_size=64,\n",
    "                                                class_mode='categorical',\n",
    "                                                shuffle = True)"
   ]
  },
  {
   "cell_type": "code",
   "execution_count": 1,
   "metadata": {},
   "outputs": [
    {
     "ename": "NameError",
     "evalue": "name 'plt' is not defined",
     "output_type": "error",
     "traceback": [
      "\u001b[1;31m---------------------------------------------------------------------------\u001b[0m",
      "\u001b[1;31mNameError\u001b[0m                                 Traceback (most recent call last)",
      "\u001b[1;32m<ipython-input-1-923c7d222fe8>\u001b[0m in \u001b[0;36m<module>\u001b[1;34m\u001b[0m\n\u001b[0;32m      1\u001b[0m \u001b[1;32mfor\u001b[0m \u001b[0mi\u001b[0m \u001b[1;32min\u001b[0m \u001b[0mrange\u001b[0m\u001b[1;33m(\u001b[0m\u001b[1;36m9\u001b[0m\u001b[1;33m)\u001b[0m\u001b[1;33m:\u001b[0m\u001b[1;33m\u001b[0m\u001b[0m\n\u001b[0;32m      2\u001b[0m         \u001b[1;31m# define subplot\u001b[0m\u001b[1;33m\u001b[0m\u001b[1;33m\u001b[0m\u001b[0m\n\u001b[1;32m----> 3\u001b[1;33m         \u001b[0mplt\u001b[0m\u001b[1;33m.\u001b[0m\u001b[0msubplot\u001b[0m\u001b[1;33m(\u001b[0m\u001b[1;36m330\u001b[0m \u001b[1;33m+\u001b[0m \u001b[1;36m1\u001b[0m \u001b[1;33m+\u001b[0m \u001b[0mi\u001b[0m\u001b[1;33m)\u001b[0m\u001b[1;33m\u001b[0m\u001b[0m\n\u001b[0m\u001b[0;32m      4\u001b[0m         \u001b[1;31m# generate batch of images\u001b[0m\u001b[1;33m\u001b[0m\u001b[1;33m\u001b[0m\u001b[0m\n\u001b[0;32m      5\u001b[0m         \u001b[0mbatch\u001b[0m \u001b[1;33m=\u001b[0m \u001b[0mtraining_set\u001b[0m\u001b[1;33m.\u001b[0m\u001b[0mnext\u001b[0m\u001b[1;33m(\u001b[0m\u001b[1;33m)\u001b[0m\u001b[1;33m\u001b[0m\u001b[0m\n",
      "\u001b[1;31mNameError\u001b[0m: name 'plt' is not defined"
     ]
    }
   ],
   "source": [
    "for i in range(9):\n",
    "\t# define subplot\n",
    "\tplt.subplot(330 + 1 + i)\n",
    "\t# generate batch of images\n",
    "\tbatch = training_set.next()\n",
    "\t# convert to unsigned integers for viewing\n",
    "\timage = batch[0].astype('uint8')\n",
    "\t# plot raw pixel data\n",
    "\tplt.imshow(image[0])\n",
    "# show the figure\n",
    "plt.show()"
   ]
  },
  {
   "cell_type": "code",
   "execution_count": null,
   "metadata": {},
   "outputs": [
    {
     "name": "stdout",
     "output_type": "stream",
     "text": [
      "Model: \"sequential\"\n",
      "_________________________________________________________________\n",
      " Layer (type)                Output Shape              Param #   \n",
      "=================================================================\n",
      " conv2d (Conv2D)             (None, 64, 64, 32)        896       \n",
      "                                                                 \n",
      " conv2d_1 (Conv2D)           (None, 62, 62, 32)        9248      \n",
      "                                                                 \n",
      " max_pooling2d (MaxPooling2D  (None, 31, 31, 32)       0         \n",
      " )                                                               \n",
      "                                                                 \n",
      " dropout (Dropout)           (None, 31, 31, 32)        0         \n",
      "                                                                 \n",
      " conv2d_2 (Conv2D)           (None, 31, 31, 64)        18496     \n",
      "                                                                 \n",
      " conv2d_3 (Conv2D)           (None, 29, 29, 64)        36928     \n",
      "                                                                 \n",
      " max_pooling2d_1 (MaxPooling  (None, 14, 14, 64)       0         \n",
      " 2D)                                                             \n",
      "                                                                 \n",
      " dropout_1 (Dropout)         (None, 14, 14, 64)        0         \n",
      "                                                                 \n",
      " conv2d_4 (Conv2D)           (None, 14, 14, 64)        36928     \n",
      "                                                                 \n",
      " conv2d_5 (Conv2D)           (None, 12, 12, 64)        36928     \n",
      "                                                                 \n",
      " max_pooling2d_2 (MaxPooling  (None, 6, 6, 64)         0         \n",
      " 2D)                                                             \n",
      "                                                                 \n",
      " dropout_2 (Dropout)         (None, 6, 6, 64)          0         \n",
      "                                                                 \n",
      " flatten (Flatten)           (None, 2304)              0         \n",
      "                                                                 \n",
      " dense (Dense)               (None, 512)               1180160   \n",
      "                                                                 \n",
      " dropout_3 (Dropout)         (None, 512)               0         \n",
      "                                                                 \n",
      " dense_1 (Dense)             (None, 24)                12312     \n",
      "                                                                 \n",
      "=================================================================\n",
      "Total params: 1,331,896\n",
      "Trainable params: 1,331,896\n",
      "Non-trainable params: 0\n",
      "_________________________________________________________________\n"
     ]
    }
   ],
   "source": [
    "# Model architechture\n",
    "model = Sequential()\n",
    "# The first two layers with 32 filters of window size 3x3\n",
    "model.add(Conv2D(32, (3, 3), padding='same', activation='relu', input_shape=(64, 64, 3)))\n",
    "model.add(Conv2D(32, (3, 3), activation='relu'))\n",
    "model.add(MaxPooling2D(pool_size=(2, 2)))\n",
    "model.add(Dropout(0.25))\n",
    "\n",
    "model.add(Conv2D(64, (3, 3), padding='same', activation='relu'))\n",
    "model.add(Conv2D(64, (3, 3), activation='relu'))\n",
    "model.add(MaxPooling2D(pool_size=(2, 2)))\n",
    "model.add(Dropout(0.25))\n",
    "\n",
    "model.add(Conv2D(64, (3, 3), padding='same', activation='relu'))\n",
    "model.add(Conv2D(64, (3, 3), activation='relu'))\n",
    "model.add(MaxPooling2D(pool_size=(2, 2)))\n",
    "model.add(Dropout(0.25))\n",
    "\n",
    "model.add(Flatten())\n",
    "model.add(Dense(512, activation='relu'))\n",
    "model.add(Dropout(0.5))\n",
    "model.add(Dense(24, activation='softmax'))\n",
    "\n",
    "model.summary()\n"
   ]
  },
  {
   "cell_type": "code",
   "execution_count": null,
   "metadata": {},
   "outputs": [],
   "source": [
    "patience = 1\n",
    "stop_patience = 4\n",
    "factor = 0.5\n",
    "checkpoint_path = \"training_2_zca/=.ckpt\"\n",
    "checkpoint_dir = os.path.dirname(checkpoint_path)\n",
    "\n",
    "callbacks = [\n",
    "    tf.keras.callbacks.EarlyStopping(patience=stop_patience, monitor='val_loss', verbose=1, restore_best_weights=True),\n",
    "    # tf.keras.callbacks.ReduceLROnPlateau(monitor='val_loss', factor=factor, patience=patience, verbose=1),\n",
    "    tf.keras.callbacks.ModelCheckpoint(filepath=checkpoint_path,\n",
    "                                                 save_weights_only=True,\n",
    "                                                 verbose=1)\n",
    "]\n"
   ]
  },
  {
   "cell_type": "code",
   "execution_count": null,
   "metadata": {},
   "outputs": [],
   "source": [
    "# opt = tf.keras.optimizers.RMSprop(learning_rate=0.001, decay=1e-6)\n",
    "model.compile('adam',loss='categorical_crossentropy',metrics=['accuracy'])"
   ]
  },
  {
   "cell_type": "code",
   "execution_count": null,
   "metadata": {},
   "outputs": [
    {
     "name": "stdout",
     "output_type": "stream",
     "text": [
      "Epoch 1/30\n",
      "97/97 [==============================] - ETA: 0s - loss: 2.8676 - accuracy: 0.1378\n",
      "Epoch 00001: saving model to training_2_zca\\=.ckpt\n",
      "97/97 [==============================] - 315s 3s/step - loss: 2.8676 - accuracy: 0.1378 - val_loss: 1.8801 - val_accuracy: 0.4408\n",
      "Epoch 2/30\n",
      "97/97 [==============================] - ETA: 0s - loss: 1.6062 - accuracy: 0.5121\n",
      "Epoch 00002: saving model to training_2_zca\\=.ckpt\n",
      "97/97 [==============================] - 301s 3s/step - loss: 1.6062 - accuracy: 0.5121 - val_loss: 1.0084 - val_accuracy: 0.6895\n",
      "Epoch 3/30\n",
      "97/97 [==============================] - ETA: 0s - loss: 0.9838 - accuracy: 0.6943\n",
      "Epoch 00003: saving model to training_2_zca\\=.ckpt\n",
      "97/97 [==============================] - 299s 3s/step - loss: 0.9838 - accuracy: 0.6943 - val_loss: 0.6631 - val_accuracy: 0.7936\n",
      "Epoch 4/30\n",
      "97/97 [==============================] - ETA: 0s - loss: 0.6590 - accuracy: 0.7932\n",
      "Epoch 00004: saving model to training_2_zca\\=.ckpt\n",
      "97/97 [==============================] - 300s 3s/step - loss: 0.6590 - accuracy: 0.7932 - val_loss: 0.5685 - val_accuracy: 0.8223\n",
      "Epoch 5/30\n",
      "97/97 [==============================] - ETA: 0s - loss: 0.4785 - accuracy: 0.8457\n",
      "Epoch 00005: saving model to training_2_zca\\=.ckpt\n",
      "97/97 [==============================] - 299s 3s/step - loss: 0.4785 - accuracy: 0.8457 - val_loss: 0.4662 - val_accuracy: 0.8691\n",
      "Epoch 6/30\n",
      "97/97 [==============================] - ETA: 0s - loss: 0.3701 - accuracy: 0.8809\n",
      "Epoch 00006: saving model to training_2_zca\\=.ckpt\n",
      "97/97 [==============================] - 299s 3s/step - loss: 0.3701 - accuracy: 0.8809 - val_loss: 0.4216 - val_accuracy: 0.8691\n",
      "Epoch 7/30\n",
      "97/97 [==============================] - ETA: 0s - loss: 0.2908 - accuracy: 0.9071\n",
      "Epoch 00007: saving model to training_2_zca\\=.ckpt\n",
      "97/97 [==============================] - 299s 3s/step - loss: 0.2908 - accuracy: 0.9071 - val_loss: 0.3994 - val_accuracy: 0.8952\n",
      "Epoch 8/30\n",
      "97/97 [==============================] - ETA: 0s - loss: 0.2407 - accuracy: 0.9162\n",
      "Epoch 00008: saving model to training_2_zca\\=.ckpt\n",
      "97/97 [==============================] - 299s 3s/step - loss: 0.2407 - accuracy: 0.9162 - val_loss: 0.3403 - val_accuracy: 0.9069\n",
      "Epoch 9/30\n",
      "97/97 [==============================] - ETA: 0s - loss: 0.2132 - accuracy: 0.9296\n",
      "Epoch 00009: saving model to training_2_zca\\=.ckpt\n",
      "97/97 [==============================] - 299s 3s/step - loss: 0.2132 - accuracy: 0.9296 - val_loss: 0.3165 - val_accuracy: 0.9186\n",
      "Epoch 10/30\n",
      "97/97 [==============================] - ETA: 0s - loss: 0.1992 - accuracy: 0.9338\n",
      "Epoch 00010: saving model to training_2_zca\\=.ckpt\n",
      "97/97 [==============================] - 298s 3s/step - loss: 0.1992 - accuracy: 0.9338 - val_loss: 0.3074 - val_accuracy: 0.9102\n",
      "Epoch 11/30\n",
      "97/97 [==============================] - ETA: 0s - loss: 0.1528 - accuracy: 0.9498\n",
      "Epoch 00011: saving model to training_2_zca\\=.ckpt\n",
      "97/97 [==============================] - 299s 3s/step - loss: 0.1528 - accuracy: 0.9498 - val_loss: 0.3230 - val_accuracy: 0.9115\n",
      "Epoch 12/30\n",
      "97/97 [==============================] - ETA: 0s - loss: 0.1509 - accuracy: 0.9465\n",
      "Epoch 00012: saving model to training_2_zca\\=.ckpt\n",
      "97/97 [==============================] - 298s 3s/step - loss: 0.1509 - accuracy: 0.9465 - val_loss: 0.2982 - val_accuracy: 0.9173\n",
      "Epoch 13/30\n",
      "97/97 [==============================] - ETA: 0s - loss: 0.1257 - accuracy: 0.9565\n",
      "Epoch 00013: saving model to training_2_zca\\=.ckpt\n",
      "97/97 [==============================] - 299s 3s/step - loss: 0.1257 - accuracy: 0.9565 - val_loss: 0.3406 - val_accuracy: 0.9160\n",
      "Epoch 14/30\n",
      "97/97 [==============================] - ETA: 0s - loss: 0.1375 - accuracy: 0.9549\n",
      "Epoch 00014: saving model to training_2_zca\\=.ckpt\n",
      "97/97 [==============================] - 298s 3s/step - loss: 0.1375 - accuracy: 0.9549 - val_loss: 0.3161 - val_accuracy: 0.9258\n",
      "Epoch 15/30\n",
      "97/97 [==============================] - ETA: 0s - loss: 0.1129 - accuracy: 0.9633\n",
      "Epoch 00015: saving model to training_2_zca\\=.ckpt\n",
      "97/97 [==============================] - 298s 3s/step - loss: 0.1129 - accuracy: 0.9633 - val_loss: 0.3275 - val_accuracy: 0.9277\n",
      "Epoch 16/30\n",
      "97/97 [==============================] - ETA: 0s - loss: 0.0992 - accuracy: 0.9687\n",
      "Epoch 00016: saving model to training_2_zca\\=.ckpt\n",
      "97/97 [==============================] - 299s 3s/step - loss: 0.0992 - accuracy: 0.9687 - val_loss: 0.2646 - val_accuracy: 0.9336\n",
      "Epoch 17/30\n",
      "97/97 [==============================] - ETA: 0s - loss: 0.0827 - accuracy: 0.9724\n",
      "Epoch 00017: saving model to training_2_zca\\=.ckpt\n",
      "97/97 [==============================] - 299s 3s/step - loss: 0.0827 - accuracy: 0.9724 - val_loss: 0.2931 - val_accuracy: 0.9336\n",
      "Epoch 18/30\n",
      "97/97 [==============================] - ETA: 0s - loss: 0.0919 - accuracy: 0.9659\n",
      "Epoch 00018: saving model to training_2_zca\\=.ckpt\n",
      "97/97 [==============================] - 298s 3s/step - loss: 0.0919 - accuracy: 0.9659 - val_loss: 0.3644 - val_accuracy: 0.9167\n",
      "Epoch 19/30\n",
      "97/97 [==============================] - ETA: 0s - loss: 0.0856 - accuracy: 0.9732\n",
      "Epoch 00019: saving model to training_2_zca\\=.ckpt\n",
      "97/97 [==============================] - 299s 3s/step - loss: 0.0856 - accuracy: 0.9732 - val_loss: 0.2941 - val_accuracy: 0.9271\n",
      "Epoch 20/30\n",
      "97/97 [==============================] - ETA: 0s - loss: 0.0851 - accuracy: 0.9712Restoring model weights from the end of the best epoch: 16.\n",
      "\n",
      "Epoch 00020: saving model to training_2_zca\\=.ckpt\n",
      "97/97 [==============================] - 299s 3s/step - loss: 0.0851 - accuracy: 0.9712 - val_loss: 0.2929 - val_accuracy: 0.9329\n",
      "Epoch 00020: early stopping\n"
     ]
    }
   ],
   "source": [
    "history = model.fit(training_set,epochs=30,validation_data = validation_set,verbose=1,callbacks=callbacks)"
   ]
  },
  {
   "cell_type": "code",
   "execution_count": null,
   "metadata": {},
   "outputs": [
    {
     "data": {
      "image/png": "[encoded data removed]",
      "text/plain": [
       "<Figure size 432x288 with 1 Axes>"
      ]
     },
     "metadata": {
      "needs_background": "light"
     },
     "output_type": "display_data"
    }
   ],
   "source": [
    "plt.plot(history.history['loss'])\n",
    "plt.plot(history.history['val_loss'])\n",
    "plt.title('model train vs validation loss')\n",
    "plt.ylabel('loss')\n",
    "plt.xlabel('epoch')\n",
    "plt.legend(['train', 'validation'], loc='upper right')\n",
    "plt.show()"
   ]
  },
  {
   "cell_type": "code",
   "execution_count": null,
   "metadata": {},
   "outputs": [
    {
     "data": {
      "image/png": "[encoded data removed]",
      "text/plain": [
       "<Figure size 432x288 with 1 Axes>"
      ]
     },
     "metadata": {
      "needs_background": "light"
     },
     "output_type": "display_data"
    }
   ],
   "source": [
    "plt.plot(history.history['accuracy'])\n",
    "plt.plot(history.history['val_accuracy'])\n",
    "plt.title('model train vs validation accuracy')\n",
    "plt.ylabel('loss')\n",
    "plt.xlabel('epoch')\n",
    "plt.legend(['train', 'validation'], loc='upper right')\n",
    "plt.show()"
   ]
  },
  {
   "cell_type": "code",
   "execution_count": null,
   "metadata": {},
   "outputs": [
    {
     "name": "stdout",
     "output_type": "stream",
     "text": [
      "4/4 [==============================] - 10s 2s/step - loss: 25.6813 - accuracy: 0.1625\n"
     ]
    },
    {
     "data": {
      "text/plain": [
       "[25.681306838989258, 0.16249999403953552]"
      ]
     },
     "execution_count": 15,
     "metadata": {},
     "output_type": "execute_result"
    }
   ],
   "source": [
    "model.evaluate(test_set)"
   ]
  },
  {
   "cell_type": "code",
   "execution_count": null,
   "metadata": {},
   "outputs": [],
   "source": [
    "test_set.reset()\n",
    "pred = model.predict(test_set)\n",
    "predicted_class_indices=np.argmax(pred,axis=1)\n",
    "labels = (training_set.class_indices)\n",
    "labels = dict((v,k) for k,v in labels.items())\n",
    "predictions = [labels[k] for k in predicted_class_indices]\n",
    "filenames=test_set.filenames\n",
    "results=pd.DataFrame({\"Filename\":filenames,\n",
    "                      \"Predictions\":predictions})\n",
    "results.to_csv(\"results.csv\",index=False)"
   ]
  },
  {
   "cell_type": "code",
   "execution_count": null,
   "metadata": {},
   "outputs": [
    {
     "data": {
      "text/html": [
       "<div>\n",
       "<style scoped>\n",
       "    .dataframe tbody tr th:only-of-type {\n",
       "        vertical-align: middle;\n",
       "    }\n",
       "\n",
       "    .dataframe tbody tr th {\n",
       "        vertical-align: top;\n",
       "    }\n",
       "\n",
       "    .dataframe thead th {\n",
       "        text-align: right;\n",
       "    }\n",
       "</style>\n",
       "<table border=\"1\" class=\"dataframe\">\n",
       "  <thead>\n",
       "    <tr style=\"text-align: right;\">\n",
       "      <th></th>\n",
       "      <th>Filename</th>\n",
       "      <th>Predictions</th>\n",
       "    </tr>\n",
       "  </thead>\n",
       "  <tbody>\n",
       "    <tr>\n",
       "      <th>0</th>\n",
       "      <td>a\\Person_E_color_0_0003.png</td>\n",
       "      <td>h</td>\n",
       "    </tr>\n",
       "    <tr>\n",
       "      <th>1</th>\n",
       "      <td>a\\Person_E_color_0_0030.png</td>\n",
       "      <td>b</td>\n",
       "    </tr>\n",
       "    <tr>\n",
       "      <th>2</th>\n",
       "      <td>a\\Person_E_color_0_0078.png</td>\n",
       "      <td>f</td>\n",
       "    </tr>\n",
       "    <tr>\n",
       "      <th>3</th>\n",
       "      <td>a\\Person_E_color_0_0145.png</td>\n",
       "      <td>l</td>\n",
       "    </tr>\n",
       "    <tr>\n",
       "      <th>4</th>\n",
       "      <td>a\\Person_E_color_0_0202.png</td>\n",
       "      <td>f</td>\n",
       "    </tr>\n",
       "    <tr>\n",
       "      <th>5</th>\n",
       "      <td>a\\Person_E_color_0_0276.png</td>\n",
       "      <td>h</td>\n",
       "    </tr>\n",
       "    <tr>\n",
       "      <th>6</th>\n",
       "      <td>a\\Person_E_color_0_0277.png</td>\n",
       "      <td>f</td>\n",
       "    </tr>\n",
       "    <tr>\n",
       "      <th>7</th>\n",
       "      <td>a\\Person_E_color_0_0431.png</td>\n",
       "      <td>e</td>\n",
       "    </tr>\n",
       "    <tr>\n",
       "      <th>8</th>\n",
       "      <td>a\\Person_E_color_0_0467.png</td>\n",
       "      <td>l</td>\n",
       "    </tr>\n",
       "    <tr>\n",
       "      <th>9</th>\n",
       "      <td>a\\Person_E_color_0_0471.png</td>\n",
       "      <td>n</td>\n",
       "    </tr>\n",
       "    <tr>\n",
       "      <th>10</th>\n",
       "      <td>b\\Person_E_color_1_0007.png</td>\n",
       "      <td>f</td>\n",
       "    </tr>\n",
       "    <tr>\n",
       "      <th>11</th>\n",
       "      <td>b\\Person_E_color_1_0068.png</td>\n",
       "      <td>h</td>\n",
       "    </tr>\n",
       "    <tr>\n",
       "      <th>12</th>\n",
       "      <td>b\\Person_E_color_1_0174.png</td>\n",
       "      <td>t</td>\n",
       "    </tr>\n",
       "    <tr>\n",
       "      <th>13</th>\n",
       "      <td>b\\Person_E_color_1_0202.png</td>\n",
       "      <td>q</td>\n",
       "    </tr>\n",
       "    <tr>\n",
       "      <th>14</th>\n",
       "      <td>b\\Person_E_color_1_0275.png</td>\n",
       "      <td>k</td>\n",
       "    </tr>\n",
       "  </tbody>\n",
       "</table>\n",
       "</div>"
      ],
      "text/plain": [
       "                       Filename Predictions\n",
       "0   a\\Person_E_color_0_0003.png           h\n",
       "1   a\\Person_E_color_0_0030.png           b\n",
       "2   a\\Person_E_color_0_0078.png           f\n",
       "3   a\\Person_E_color_0_0145.png           l\n",
       "4   a\\Person_E_color_0_0202.png           f\n",
       "5   a\\Person_E_color_0_0276.png           h\n",
       "6   a\\Person_E_color_0_0277.png           f\n",
       "7   a\\Person_E_color_0_0431.png           e\n",
       "8   a\\Person_E_color_0_0467.png           l\n",
       "9   a\\Person_E_color_0_0471.png           n\n",
       "10  b\\Person_E_color_1_0007.png           f\n",
       "11  b\\Person_E_color_1_0068.png           h\n",
       "12  b\\Person_E_color_1_0174.png           t\n",
       "13  b\\Person_E_color_1_0202.png           q\n",
       "14  b\\Person_E_color_1_0275.png           k"
      ]
     },
     "execution_count": 17,
     "metadata": {},
     "output_type": "execute_result"
    }
   ],
   "source": [
    "results.head(15)"
   ]
  },
  {
   "cell_type": "code",
   "execution_count": null,
   "metadata": {},
   "outputs": [],
   "source": []
  }
 ],
 "metadata": {
  "interpreter": {
   "hash": "963d71d93479651a6f1c6c6edea673d15d1950ccb24249efb4f5ed79375351c3"
  },
  "kernelspec": {
   "display_name": "Python 3",
   "language": "python",
   "name": "python3"
  },
  "language_info": {
   "codemirror_mode": {
    "name": "ipython",
    "version": 3
   },
   "file_extension": ".py",
   "mimetype": "text/x-python",
   "name": "python",
   "nbconvert_exporter": "python",
   "pygments_lexer": "ipython3",
   "version": "3.7.0"
  }
 },
 "nbformat": 4,
 "nbformat_minor": 2
}
