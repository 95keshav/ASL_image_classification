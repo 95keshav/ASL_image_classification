{
 "cells": [
  {
   "cell_type": "code",
   "execution_count": 153,
   "metadata": {},
   "outputs": [],
   "source": [
    "import numpy as np\n",
    "import pandas as pd\n",
    "import tensorflow as tf\n",
    "from matplotlib import pyplot as plt\n",
    "import os\n",
    "from tensorflow import keras\n",
    "from keras.preprocessing.image import ImageDataGenerator\n",
    "from pathlib import Path\n",
    "from PIL import Image\n",
    "from keras.models import Sequential\n",
    "from keras.layers import Dropout, Flatten, Dense, Conv2D, MaxPooling2D, BatchNormalization\n",
    "from keras import optimizers\n",
    "from sklearn.model_selection import train_test_split\n",
    "import cv2"
   ]
  },
  {
   "cell_type": "code",
   "execution_count": 154,
   "metadata": {},
   "outputs": [
    {
     "name": "stdout",
     "output_type": "stream",
     "text": [
      "1 Physical GPUs, 1 Logical GPU\n"
     ]
    }
   ],
   "source": [
    "gpus = tf.config.list_physical_devices('GPU')\n",
    "if gpus:\n",
    "  # Restrict TensorFlow to only use the first GPU\n",
    "  try:\n",
    "    tf.config.set_visible_devices(gpus[0], 'GPU')\n",
    "    logical_gpus = tf.config.list_logical_devices('GPU')\n",
    "    print(len(gpus), \"Physical GPUs,\", len(logical_gpus), \"Logical GPU\")\n",
    "  except RuntimeError as e:\n",
    "    # Visible devices must be set before GPUs have been initialized\n",
    "    print(e)"
   ]
  },
  {
   "cell_type": "markdown",
   "metadata": {},
   "source": [
    "### Adding images and converting to numpy array"
   ]
  },
  {
   "cell_type": "code",
   "execution_count": 155,
   "metadata": {},
   "outputs": [],
   "source": [
    "directory = os.path.join('dataset','training_shuffleV2_200_400')"
   ]
  },
  {
   "cell_type": "code",
   "execution_count": 156,
   "metadata": {},
   "outputs": [],
   "source": [
    "def read_pil_image(img_path, height, width):\n",
    "        with open(img_path, 'rb') as f:\n",
    "            return np.array(Image.open(f).convert('RGB').resize((width, height)))\n",
    "\n",
    "def load_all_images(dataset_path, height, width, img_ext='png'):\n",
    "    return np.array([read_pil_image(str(p), height, width) for p in \n",
    "                                    Path(dataset_path).rglob(\"*.\"+img_ext)]) "
   ]
  },
  {
   "cell_type": "code",
   "execution_count": 157,
   "metadata": {},
   "outputs": [],
   "source": [
    "train_datagen = ImageDataGenerator(rescale=1./255,featurewise_center=True, featurewise_std_normalization=False,validation_split = .2)\n",
    "test_datagen = ImageDataGenerator(rescale=1./255,featurewise_center=True, featurewise_std_normalization=False)\n",
    "# train_datagen_std = tf.keras.preprocessing.image.ImageDataGenerator(featurewise_center=True, featurewise_std_normalization=True)\n",
    "# train_datagen_zca = tf.keras.preprocessing.image.ImageDataGenerator(zca_whitening=True)"
   ]
  },
  {
   "cell_type": "code",
   "execution_count": 158,
   "metadata": {},
   "outputs": [],
   "source": [
    "train_datagen.fit(load_all_images(directory, 64, 64))\n",
    "test_datagen.fit(load_all_images(os.path.join('dataset','test_random'), 64, 64))"
   ]
  },
  {
   "cell_type": "code",
   "execution_count": 159,
   "metadata": {},
   "outputs": [],
   "source": [
    "# train_datagen.fit(load_all_images(directory, 64, 64))\n",
    "# train_datagen.fit(load_all_images(directory, 64, 64))\n",
    "# train_datagen.fit(load_all_images(directory, 64, 64))"
   ]
  },
  {
   "cell_type": "code",
   "execution_count": 160,
   "metadata": {},
   "outputs": [
    {
     "name": "stdout",
     "output_type": "stream",
     "text": [
      "Found 3862 images belonging to 24 classes.\n",
      "Found 960 images belonging to 24 classes.\n",
      "Found 240 images belonging to 24 classes.\n"
     ]
    }
   ],
   "source": [
    "training_set = train_datagen.flow_from_directory(\n",
    "    directory,target_size=(64, 64),batch_size=64,class_mode='categorical', shuffle = True,subset='training'\n",
    ")\n",
    "validation_set = train_datagen.flow_from_directory(directory,\n",
    "                                        target_size=(64, 64),\n",
    "                                                 batch_size=64,\n",
    "                                      class_mode='categorical',\n",
    "                                               shuffle = True,\n",
    "                                           subset='validation')\n",
    "\n",
    "test_set = test_datagen.flow_from_directory(os.path.join('dataset','test_random'),\n",
    "                                                target_size=(64, 64),\n",
    "                                                batch_size=64,\n",
    "                                                class_mode='categorical',\n",
    "                                                shuffle = True)\n",
    "# images_std = train_datagen_zca.flow_from_directory(\n",
    "#     directory,target_size=(64, 64),batch_size=34,class_mode='categorical'\n",
    "# )\n",
    "\n",
    "# images_zca = train_datagen_zca.flow_from_directory(\n",
    "#     directory,target_size=(64, 64),batch_size=34,class_mode='categorical'\n",
    "# )"
   ]
  },
  {
   "cell_type": "code",
   "execution_count": 161,
   "metadata": {},
   "outputs": [],
   "source": [
    "# for i in range(9):\n",
    "# \t# define subplot\n",
    "# \tplt.subplot(330 + 1 + i)\n",
    "# \t# generate batch of images\n",
    "# \tbatch = images.next()\n",
    "# \t# convert to unsigned integers for viewing\n",
    "# \timage = batch[0].astype('uint8')\n",
    "# \t# plot raw pixel data\n",
    "# \tplt.imshow(image[0])\n",
    "# # show the figure\n",
    "# plt.show()"
   ]
  },
  {
   "cell_type": "code",
   "execution_count": 162,
   "metadata": {},
   "outputs": [
    {
     "name": "stdout",
     "output_type": "stream",
     "text": [
      "Model: \"sequential_8\"\n",
      "_________________________________________________________________\n",
      " Layer (type)                Output Shape              Param #   \n",
      "=================================================================\n",
      " conv2d_31 (Conv2D)          (None, 64, 64, 32)        896       \n",
      "                                                                 \n",
      " conv2d_32 (Conv2D)          (None, 62, 62, 32)        9248      \n",
      "                                                                 \n",
      " max_pooling2d_25 (MaxPoolin  (None, 31, 31, 32)       0         \n",
      " g2D)                                                            \n",
      "                                                                 \n",
      " dropout_9 (Dropout)         (None, 31, 31, 32)        0         \n",
      "                                                                 \n",
      " conv2d_33 (Conv2D)          (None, 31, 31, 64)        18496     \n",
      "                                                                 \n",
      " conv2d_34 (Conv2D)          (None, 29, 29, 64)        36928     \n",
      "                                                                 \n",
      " max_pooling2d_26 (MaxPoolin  (None, 14, 14, 64)       0         \n",
      " g2D)                                                            \n",
      "                                                                 \n",
      " dropout_10 (Dropout)        (None, 14, 14, 64)        0         \n",
      "                                                                 \n",
      " conv2d_35 (Conv2D)          (None, 14, 14, 64)        36928     \n",
      "                                                                 \n",
      " conv2d_36 (Conv2D)          (None, 12, 12, 64)        36928     \n",
      "                                                                 \n",
      " max_pooling2d_27 (MaxPoolin  (None, 6, 6, 64)         0         \n",
      " g2D)                                                            \n",
      "                                                                 \n",
      " dropout_11 (Dropout)        (None, 6, 6, 64)          0         \n",
      "                                                                 \n",
      " flatten_8 (Flatten)         (None, 2304)              0         \n",
      "                                                                 \n",
      " dense_17 (Dense)            (None, 512)               1180160   \n",
      "                                                                 \n",
      " dropout_12 (Dropout)        (None, 512)               0         \n",
      "                                                                 \n",
      " dense_18 (Dense)            (None, 24)                12312     \n",
      "                                                                 \n",
      "=================================================================\n",
      "Total params: 1,331,896\n",
      "Trainable params: 1,331,896\n",
      "Non-trainable params: 0\n",
      "_________________________________________________________________\n"
     ]
    }
   ],
   "source": [
    "# Model architechture\n",
    "model = Sequential()\n",
    "# The first two layers with 32 filters of window size 3x3\n",
    "model.add(Conv2D(32, (3, 3), padding='same', activation='relu', input_shape=(64, 64, 3)))\n",
    "model.add(Conv2D(32, (3, 3), activation='relu'))\n",
    "model.add(MaxPooling2D(pool_size=(2, 2)))\n",
    "model.add(Dropout(0.25))\n",
    "\n",
    "model.add(Conv2D(64, (3, 3), padding='same', activation='relu'))\n",
    "model.add(Conv2D(64, (3, 3), activation='relu'))\n",
    "model.add(MaxPooling2D(pool_size=(2, 2)))\n",
    "model.add(Dropout(0.25))\n",
    "\n",
    "model.add(Conv2D(64, (3, 3), padding='same', activation='relu'))\n",
    "model.add(Conv2D(64, (3, 3), activation='relu'))\n",
    "model.add(MaxPooling2D(pool_size=(2, 2)))\n",
    "model.add(Dropout(0.25))\n",
    "\n",
    "model.add(Flatten())\n",
    "model.add(Dense(512, activation='relu'))\n",
    "model.add(Dropout(0.5))\n",
    "model.add(Dense(24, activation='softmax'))\n",
    "\n",
    "model.summary()\n"
   ]
  },
  {
   "cell_type": "code",
   "execution_count": 163,
   "metadata": {},
   "outputs": [],
   "source": [
    "patience = 1\n",
    "stop_patience = 10\n",
    "factor = 0.5\n",
    "checkpoint_path = \"training_1_normalization/cp.ckpt\"\n",
    "checkpoint_dir = os.path.dirname(checkpoint_path)\n",
    "\n",
    "callbacks = [\n",
    "    tf.keras.callbacks.EarlyStopping(patience=stop_patience, monitor='val_loss', verbose=1, restore_best_weights=True),\n",
    "    # tf.keras.callbacks.ReduceLROnPlateau(monitor='val_loss', factor=factor, patience=patience, verbose=1),\n",
    "    tf.keras.callbacks.ModelCheckpoint(filepath=checkpoint_path,\n",
    "                                                 save_weights_only=True,\n",
    "                                                 verbose=1)\n",
    "]\n"
   ]
  },
  {
   "cell_type": "code",
   "execution_count": 164,
   "metadata": {},
   "outputs": [],
   "source": [
    "# opt = tf.keras.optimizers.RMSprop(learning_rate=0.001, decay=1e-6)\n",
    "model.compile('adam',loss='categorical_crossentropy',metrics=['accuracy'])"
   ]
  },
  {
   "cell_type": "code",
   "execution_count": 165,
   "metadata": {},
   "outputs": [
    {
     "data": {
      "text/plain": [
       "<tensorflow.python.training.tracking.util.CheckpointLoadStatus at 0x28129dd58d0>"
      ]
     },
     "execution_count": 165,
     "metadata": {},
     "output_type": "execute_result"
    }
   ],
   "source": [
    "model.load_weights(checkpoint_path)"
   ]
  },
  {
   "cell_type": "code",
   "execution_count": 166,
   "metadata": {},
   "outputs": [
    {
     "name": "stdout",
     "output_type": "stream",
     "text": [
      "Epoch 1/30\n",
      "61/61 [==============================] - ETA: 0s - loss: 0.0561 - accuracy: 0.9819\n",
      "Epoch 00001: saving model to training_1_normalization\\cp.ckpt\n",
      "61/61 [==============================] - 3s 42ms/step - loss: 0.0561 - accuracy: 0.9819 - val_loss: 0.1062 - val_accuracy: 0.9698\n",
      "Epoch 2/30\n",
      "61/61 [==============================] - ETA: 0s - loss: 0.0745 - accuracy: 0.9770\n",
      "Epoch 00002: saving model to training_1_normalization\\cp.ckpt\n",
      "61/61 [==============================] - 3s 44ms/step - loss: 0.0745 - accuracy: 0.9770 - val_loss: 0.1461 - val_accuracy: 0.9646\n",
      "Epoch 3/30\n",
      "61/61 [==============================] - ETA: 0s - loss: 0.0662 - accuracy: 0.9801\n",
      "Epoch 00003: saving model to training_1_normalization\\cp.ckpt\n",
      "61/61 [==============================] - 3s 41ms/step - loss: 0.0662 - accuracy: 0.9801 - val_loss: 0.1415 - val_accuracy: 0.9688\n",
      "Epoch 4/30\n",
      "60/61 [============================>.] - ETA: 0s - loss: 0.0461 - accuracy: 0.9860\n",
      "Epoch 00004: saving model to training_1_normalization\\cp.ckpt\n",
      "61/61 [==============================] - 2s 38ms/step - loss: 0.0471 - accuracy: 0.9855 - val_loss: 0.1205 - val_accuracy: 0.9729\n",
      "Epoch 5/30\n",
      "60/61 [============================>.] - ETA: 0s - loss: 0.0713 - accuracy: 0.9776\n",
      "Epoch 00005: saving model to training_1_normalization\\cp.ckpt\n",
      "61/61 [==============================] - 2s 40ms/step - loss: 0.0703 - accuracy: 0.9780 - val_loss: 0.1264 - val_accuracy: 0.9740\n",
      "Epoch 6/30\n",
      "60/61 [============================>.] - ETA: 0s - loss: 0.0474 - accuracy: 0.9850\n",
      "Epoch 00006: saving model to training_1_normalization\\cp.ckpt\n",
      "61/61 [==============================] - 3s 42ms/step - loss: 0.0539 - accuracy: 0.9839 - val_loss: 0.1549 - val_accuracy: 0.9688\n",
      "Epoch 7/30\n",
      "60/61 [============================>.] - ETA: 0s - loss: 0.0671 - accuracy: 0.9789\n",
      "Epoch 00007: saving model to training_1_normalization\\cp.ckpt\n",
      "61/61 [==============================] - 2s 40ms/step - loss: 0.0674 - accuracy: 0.9790 - val_loss: 0.1283 - val_accuracy: 0.9667\n",
      "Epoch 8/30\n",
      "61/61 [==============================] - ETA: 0s - loss: 0.0668 - accuracy: 0.9819\n",
      "Epoch 00008: saving model to training_1_normalization\\cp.ckpt\n",
      "61/61 [==============================] - 3s 44ms/step - loss: 0.0668 - accuracy: 0.9819 - val_loss: 0.1423 - val_accuracy: 0.9656\n",
      "Epoch 9/30\n",
      "61/61 [==============================] - ETA: 0s - loss: 0.0690 - accuracy: 0.9785\n",
      "Epoch 00009: saving model to training_1_normalization\\cp.ckpt\n",
      "61/61 [==============================] - 3s 44ms/step - loss: 0.0690 - accuracy: 0.9785 - val_loss: 0.1382 - val_accuracy: 0.9667\n",
      "Epoch 10/30\n",
      "61/61 [==============================] - ETA: 0s - loss: 0.0630 - accuracy: 0.9821\n",
      "Epoch 00010: saving model to training_1_normalization\\cp.ckpt\n",
      "61/61 [==============================] - 3s 44ms/step - loss: 0.0630 - accuracy: 0.9821 - val_loss: 0.1251 - val_accuracy: 0.9688\n",
      "Epoch 11/30\n",
      "60/61 [============================>.] - ETA: 0s - loss: 0.0445 - accuracy: 0.9884Restoring model weights from the end of the best epoch: 1.\n",
      "\n",
      "Epoch 00011: saving model to training_1_normalization\\cp.ckpt\n",
      "61/61 [==============================] - 2s 41ms/step - loss: 0.0454 - accuracy: 0.9881 - val_loss: 0.1240 - val_accuracy: 0.9750\n",
      "Epoch 00011: early stopping\n"
     ]
    }
   ],
   "source": [
    "history = model.fit(training_set,epochs=30,validation_data = validation_set,verbose=1,callbacks=[callbacks])"
   ]
  },
  {
   "cell_type": "code",
   "execution_count": null,
   "metadata": {},
   "outputs": [],
   "source": []
  },
  {
   "cell_type": "code",
   "execution_count": 167,
   "metadata": {},
   "outputs": [
    {
     "data": {
      "image/png": "[encoded data removed]",
      "text/plain": [
       "<Figure size 432x288 with 1 Axes>"
      ]
     },
     "metadata": {
      "needs_background": "light"
     },
     "output_type": "display_data"
    }
   ],
   "source": [
    "plt.plot(history.history['loss'])\n",
    "plt.plot(history.history['val_loss'])\n",
    "plt.title('model train vs validation loss')\n",
    "plt.ylabel('loss')\n",
    "plt.xlabel('epoch')\n",
    "plt.legend(['train', 'validation'], loc='upper right')\n",
    "plt.show()"
   ]
  },
  {
   "cell_type": "code",
   "execution_count": 168,
   "metadata": {},
   "outputs": [
    {
     "data": {
      "image/png": "[encoded data removed]",
      "text/plain": [
       "<Figure size 432x288 with 1 Axes>"
      ]
     },
     "metadata": {
      "needs_background": "light"
     },
     "output_type": "display_data"
    }
   ],
   "source": [
    "plt.plot(history.history['accuracy'])\n",
    "plt.plot(history.history['val_accuracy'])\n",
    "plt.title('model train vs validation accuracy')\n",
    "plt.ylabel('loss')\n",
    "plt.xlabel('epoch')\n",
    "plt.legend(['train', 'validation'], loc='upper right')\n",
    "plt.show()"
   ]
  },
  {
   "cell_type": "code",
   "execution_count": 169,
   "metadata": {},
   "outputs": [
    {
     "name": "stdout",
     "output_type": "stream",
     "text": [
      "4/4 [==============================] - 0s 47ms/step - loss: 3.1993 - accuracy: 0.0417\n"
     ]
    },
    {
     "data": {
      "text/plain": [
       "[3.199338436126709, 0.0416666679084301]"
      ]
     },
     "execution_count": 169,
     "metadata": {},
     "output_type": "execute_result"
    }
   ],
   "source": [
    "model.evaluate(test_set)"
   ]
  },
  {
   "cell_type": "code",
   "execution_count": 170,
   "metadata": {},
   "outputs": [],
   "source": [
    "test_set.reset()\n",
    "pred = model.predict(test_set)\n",
    "predicted_class_indices=np.argmax(pred,axis=1)\n",
    "labels = (training_set.class_indices)\n",
    "labels = dict((v,k) for k,v in labels.items())\n",
    "predictions = [labels[k] for k in predicted_class_indices]\n",
    "filenames=test_set.filenames\n",
    "results=pd.DataFrame({\"Filename\":filenames,\n",
    "                      \"Predictions\":predictions})\n",
    "results.to_csv(\"results.csv\",index=False)"
   ]
  },
  {
   "cell_type": "code",
   "execution_count": 171,
   "metadata": {},
   "outputs": [
    {
     "data": {
      "text/html": [
       "<div>\n",
       "<style scoped>\n",
       "    .dataframe tbody tr th:only-of-type {\n",
       "        vertical-align: middle;\n",
       "    }\n",
       "\n",
       "    .dataframe tbody tr th {\n",
       "        vertical-align: top;\n",
       "    }\n",
       "\n",
       "    .dataframe thead th {\n",
       "        text-align: right;\n",
       "    }\n",
       "</style>\n",
       "<table border=\"1\" class=\"dataframe\">\n",
       "  <thead>\n",
       "    <tr style=\"text-align: right;\">\n",
       "      <th></th>\n",
       "      <th>Filename</th>\n",
       "      <th>Predictions</th>\n",
       "    </tr>\n",
       "  </thead>\n",
       "  <tbody>\n",
       "    <tr>\n",
       "      <th>0</th>\n",
       "      <td>a\\Person_E_color_0_0003.png</td>\n",
       "      <td>s</td>\n",
       "    </tr>\n",
       "    <tr>\n",
       "      <th>1</th>\n",
       "      <td>a\\Person_E_color_0_0030.png</td>\n",
       "      <td>s</td>\n",
       "    </tr>\n",
       "    <tr>\n",
       "      <th>2</th>\n",
       "      <td>a\\Person_E_color_0_0078.png</td>\n",
       "      <td>s</td>\n",
       "    </tr>\n",
       "    <tr>\n",
       "      <th>3</th>\n",
       "      <td>a\\Person_E_color_0_0145.png</td>\n",
       "      <td>s</td>\n",
       "    </tr>\n",
       "    <tr>\n",
       "      <th>4</th>\n",
       "      <td>a\\Person_E_color_0_0202.png</td>\n",
       "      <td>s</td>\n",
       "    </tr>\n",
       "    <tr>\n",
       "      <th>5</th>\n",
       "      <td>a\\Person_E_color_0_0276.png</td>\n",
       "      <td>s</td>\n",
       "    </tr>\n",
       "    <tr>\n",
       "      <th>6</th>\n",
       "      <td>a\\Person_E_color_0_0277.png</td>\n",
       "      <td>s</td>\n",
       "    </tr>\n",
       "    <tr>\n",
       "      <th>7</th>\n",
       "      <td>a\\Person_E_color_0_0431.png</td>\n",
       "      <td>s</td>\n",
       "    </tr>\n",
       "    <tr>\n",
       "      <th>8</th>\n",
       "      <td>a\\Person_E_color_0_0467.png</td>\n",
       "      <td>s</td>\n",
       "    </tr>\n",
       "    <tr>\n",
       "      <th>9</th>\n",
       "      <td>a\\Person_E_color_0_0471.png</td>\n",
       "      <td>s</td>\n",
       "    </tr>\n",
       "    <tr>\n",
       "      <th>10</th>\n",
       "      <td>b\\Person_E_color_1_0007.png</td>\n",
       "      <td>s</td>\n",
       "    </tr>\n",
       "    <tr>\n",
       "      <th>11</th>\n",
       "      <td>b\\Person_E_color_1_0068.png</td>\n",
       "      <td>s</td>\n",
       "    </tr>\n",
       "    <tr>\n",
       "      <th>12</th>\n",
       "      <td>b\\Person_E_color_1_0174.png</td>\n",
       "      <td>s</td>\n",
       "    </tr>\n",
       "    <tr>\n",
       "      <th>13</th>\n",
       "      <td>b\\Person_E_color_1_0202.png</td>\n",
       "      <td>s</td>\n",
       "    </tr>\n",
       "    <tr>\n",
       "      <th>14</th>\n",
       "      <td>b\\Person_E_color_1_0275.png</td>\n",
       "      <td>s</td>\n",
       "    </tr>\n",
       "  </tbody>\n",
       "</table>\n",
       "</div>"
      ],
      "text/plain": [
       "                       Filename Predictions\n",
       "0   a\\Person_E_color_0_0003.png           s\n",
       "1   a\\Person_E_color_0_0030.png           s\n",
       "2   a\\Person_E_color_0_0078.png           s\n",
       "3   a\\Person_E_color_0_0145.png           s\n",
       "4   a\\Person_E_color_0_0202.png           s\n",
       "5   a\\Person_E_color_0_0276.png           s\n",
       "6   a\\Person_E_color_0_0277.png           s\n",
       "7   a\\Person_E_color_0_0431.png           s\n",
       "8   a\\Person_E_color_0_0467.png           s\n",
       "9   a\\Person_E_color_0_0471.png           s\n",
       "10  b\\Person_E_color_1_0007.png           s\n",
       "11  b\\Person_E_color_1_0068.png           s\n",
       "12  b\\Person_E_color_1_0174.png           s\n",
       "13  b\\Person_E_color_1_0202.png           s\n",
       "14  b\\Person_E_color_1_0275.png           s"
      ]
     },
     "execution_count": 171,
     "metadata": {},
     "output_type": "execute_result"
    }
   ],
   "source": [
    "results.head(15)"
   ]
  },
  {
   "cell_type": "code",
   "execution_count": null,
   "metadata": {},
   "outputs": [],
   "source": []
  }
 ],
 "metadata": {
  "interpreter": {
   "hash": "963d71d93479651a6f1c6c6edea673d15d1950ccb24249efb4f5ed79375351c3"
  },
  "kernelspec": {
   "display_name": "Python 3",
   "language": "python",
   "name": "python3"
  },
  "language_info": {
   "codemirror_mode": {
    "name": "ipython",
    "version": 3
   },
   "file_extension": ".py",
   "mimetype": "text/x-python",
   "name": "python",
   "nbconvert_exporter": "python",
   "pygments_lexer": "ipython3",
   "version": "3.7.0"
  }
 },
 "nbformat": 4,
 "nbformat_minor": 2
}
